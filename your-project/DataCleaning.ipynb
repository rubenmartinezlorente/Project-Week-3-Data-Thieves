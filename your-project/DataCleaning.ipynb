{
 "cells": [
  {
   "cell_type": "markdown",
   "metadata": {},
   "source": [
    "# **Request to PUNK IPA API AND Dataset**"
   ]
  },
  {
   "cell_type": "markdown",
   "metadata": {},
   "source": [
    "# Reading the Dataset of Beers"
   ]
  },
  {
   "cell_type": "markdown",
   "metadata": {},
   "source": []
  },
  {
   "cell_type": "code",
   "execution_count": 1,
   "metadata": {},
   "outputs": [
    {
     "name": "stderr",
     "output_type": "stream",
     "text": [
      "/usr/local/Cellar/ipython/7.8.0/libexec/lib/python3.7/site-packages/IPython/core/interactiveshell.py:3058: DtypeWarning: Columns (0,1,3,4,5,6,7,8,9,17,18,19,20,21,22,23,24,25,26,27,28,29,30,31,32,33,34,35,36,37,38,39,41,46,48,49,50,51,52,54,58,60,61,62,63,64,66,70,71,72,73,74,75,76,78,82,84,85,86,87,88,90,94,96,97,98,99,100,102,108,109,110,111,112,114,118,119,121,122,123,124,126,131,133,134,135,136,138,143,145,146,147,148,150,155,157,158,159,160,162,167,169,170,171,172,174,179,181,182,183,184,186,191,193,194,195,196,198,203,205,206,207,215,217,219,227,229,231,239,240,241,242,243,245,247,251,253,255,257,263,264,266,268,276,278,280,288,290,292,300,302,304,312,314,316,324,326,328,336,338,340,348,349,350,351,353,355,363,364,366,368,376,378,380,388,390,392,400,402,404,412,414,416,424,426,428,436,438,440,448,450,452,460,462,464,474,476,484,486,488,496,498,500,508,510,512,520,522,524,532,534,536,544) have mixed types. Specify dtype option on import or set low_memory=False.\n",
      "  interactivity=interactivity, compiler=compiler, result=result)\n"
     ]
    },
    {
     "data": {
      "text/html": [
       "<div>\n",
       "<style scoped>\n",
       "    .dataframe tbody tr th:only-of-type {\n",
       "        vertical-align: middle;\n",
       "    }\n",
       "\n",
       "    .dataframe tbody tr th {\n",
       "        vertical-align: top;\n",
       "    }\n",
       "\n",
       "    .dataframe thead th {\n",
       "        text-align: right;\n",
       "    }\n",
       "</style>\n",
       "<table border=\"1\" class=\"dataframe\">\n",
       "  <thead>\n",
       "    <tr style=\"text-align: right;\">\n",
       "      <th></th>\n",
       "      <th>brewery_id</th>\n",
       "      <th>name</th>\n",
       "      <th>cat_id</th>\n",
       "      <th>style_id</th>\n",
       "      <th>abv</th>\n",
       "    </tr>\n",
       "  </thead>\n",
       "  <tbody>\n",
       "    <tr>\n",
       "      <th>0</th>\n",
       "      <td>812</td>\n",
       "      <td>Hocus Pocus</td>\n",
       "      <td>11</td>\n",
       "      <td>116</td>\n",
       "      <td>4.5</td>\n",
       "    </tr>\n",
       "    <tr>\n",
       "      <th>5</th>\n",
       "      <td>1385</td>\n",
       "      <td>Winter Warmer</td>\n",
       "      <td>1</td>\n",
       "      <td>13</td>\n",
       "      <td>5.2</td>\n",
       "    </tr>\n",
       "    <tr>\n",
       "      <th>7</th>\n",
       "      <td>1099</td>\n",
       "      <td>Oatmeal Stout</td>\n",
       "      <td>3</td>\n",
       "      <td>42</td>\n",
       "      <td>5</td>\n",
       "    </tr>\n",
       "    <tr>\n",
       "      <th>13</th>\n",
       "      <td>1099</td>\n",
       "      <td>Imperial Stout</td>\n",
       "      <td>3</td>\n",
       "      <td>42</td>\n",
       "      <td>7</td>\n",
       "    </tr>\n",
       "    <tr>\n",
       "      <th>16</th>\n",
       "      <td>1023</td>\n",
       "      <td>Wiesen Edel Weisse</td>\n",
       "      <td>4</td>\n",
       "      <td>50</td>\n",
       "      <td>6.2</td>\n",
       "    </tr>\n",
       "    <tr>\n",
       "      <th>...</th>\n",
       "      <td>...</td>\n",
       "      <td>...</td>\n",
       "      <td>...</td>\n",
       "      <td>...</td>\n",
       "      <td>...</td>\n",
       "    </tr>\n",
       "    <tr>\n",
       "      <th>5843</th>\n",
       "      <td>1417</td>\n",
       "      <td>Watershed IPA</td>\n",
       "      <td>3</td>\n",
       "      <td>30</td>\n",
       "      <td>7.1</td>\n",
       "    </tr>\n",
       "    <tr>\n",
       "      <th>5844</th>\n",
       "      <td>1087</td>\n",
       "      <td>Estrella Levante Especial</td>\n",
       "      <td>9</td>\n",
       "      <td>106</td>\n",
       "      <td>5.4</td>\n",
       "    </tr>\n",
       "    <tr>\n",
       "      <th>5845</th>\n",
       "      <td>1087</td>\n",
       "      <td>Estrella Levante Sin 0.0% Alcohol</td>\n",
       "      <td>9</td>\n",
       "      <td>106</td>\n",
       "      <td>1</td>\n",
       "    </tr>\n",
       "    <tr>\n",
       "      <th>5846</th>\n",
       "      <td>1419</td>\n",
       "      <td>Koshihikari Echigo Beer</td>\n",
       "      <td>11</td>\n",
       "      <td>132</td>\n",
       "      <td>5</td>\n",
       "    </tr>\n",
       "    <tr>\n",
       "      <th>5848</th>\n",
       "      <td>1421</td>\n",
       "      <td>The Public</td>\n",
       "      <td>3</td>\n",
       "      <td>26</td>\n",
       "      <td>6</td>\n",
       "    </tr>\n",
       "  </tbody>\n",
       "</table>\n",
       "<p>2568 rows × 5 columns</p>\n",
       "</div>"
      ],
      "text/plain": [
       "     brewery_id                               name cat_id style_id  abv\n",
       "0           812                        Hocus Pocus     11      116  4.5\n",
       "5          1385                      Winter Warmer      1       13  5.2\n",
       "7          1099                      Oatmeal Stout      3       42    5\n",
       "13         1099                     Imperial Stout      3       42    7\n",
       "16         1023                 Wiesen Edel Weisse      4       50  6.2\n",
       "...         ...                                ...    ...      ...  ...\n",
       "5843       1417                      Watershed IPA      3       30  7.1\n",
       "5844       1087          Estrella Levante Especial      9      106  5.4\n",
       "5845       1087  Estrella Levante Sin 0.0% Alcohol      9      106    1\n",
       "5846       1419            Koshihikari Echigo Beer     11      132    5\n",
       "5848       1421                         The Public      3       26    6\n",
       "\n",
       "[2568 rows x 5 columns]"
      ]
     },
     "execution_count": 1,
     "metadata": {},
     "output_type": "execute_result"
    }
   ],
   "source": [
    "\n",
    "import pandas as pd\n",
    "beers_new = pd.read_csv('Raw Data/raw_Data/beers.csv')\n",
    "\n",
    "#First, get the columns we want:\n",
    "\n",
    "keep_col = ['brewery_id','name','cat_id','style_id','abv',]\n",
    "beers_new = beers_new[keep_col]\n",
    "beers_new\n",
    "\n",
    "\n",
    "#Now, by having a look inside , we have to  eliminate the rows with '-1' in categories because there does not exist  \n",
    "#a category with the id '-1' and it has two types: integer and string.\n",
    "\n",
    "\n",
    "beers_new= beers_new[~(beers_new.cat_id == \"-1\")]\n",
    "beers_new = beers_new[~(beers_new.cat_id == -1 )]\n",
    "\n",
    "\n",
    "\n",
    "#'''eliminating the rows with '0.0' in abv because all the beers have al least some alcohol inside and \n",
    "#drop the descript column because we are not going to use it and it has two types: integer and string.'''\n",
    "\n",
    "beers_new = beers_new[~(beers_new.abv==\"0.0\")]\n",
    "beers_new = beers_new[~(beers_new.abv==0.0)]\n",
    "\n",
    "\n",
    "\n",
    "beers_new  "
   ]
  },
  {
   "cell_type": "markdown",
   "metadata": {},
   "source": [
    "### Let's look for the nan values  "
   ]
  },
  {
   "cell_type": "code",
   "execution_count": 2,
   "metadata": {},
   "outputs": [
    {
     "name": "stdout",
     "output_type": "stream",
     "text": [
      "<class 'pandas.core.frame.DataFrame'>\n",
      "Int64Index: 2568 entries, 0 to 5848\n",
      "Data columns (total 5 columns):\n",
      "brewery_id    2544 non-null object\n",
      "name          2544 non-null object\n",
      "cat_id        2539 non-null object\n",
      "style_id      2536 non-null object\n",
      "abv           2532 non-null object\n",
      "dtypes: object(5)\n",
      "memory usage: 120.4+ KB\n"
     ]
    }
   ],
   "source": [
    "beers_new.info()"
   ]
  },
  {
   "cell_type": "markdown",
   "metadata": {},
   "source": [
    "### There some nan value inside the dataset, so we are going to eliminate them because is impossible to  vinculate the missing values with all the data we have."
   ]
  },
  {
   "cell_type": "code",
   "execution_count": 3,
   "metadata": {},
   "outputs": [
    {
     "name": "stdout",
     "output_type": "stream",
     "text": [
      "<class 'pandas.core.frame.DataFrame'>\n",
      "Int64Index: 2532 entries, 0 to 5848\n",
      "Data columns (total 5 columns):\n",
      "brewery_id    2532 non-null object\n",
      "name          2532 non-null object\n",
      "cat_id        2532 non-null object\n",
      "style_id      2532 non-null object\n",
      "abv           2532 non-null object\n",
      "dtypes: object(5)\n",
      "memory usage: 118.7+ KB\n"
     ]
    }
   ],
   "source": [
    "beers_new = beers_new.dropna()\n",
    "beers_new.info()"
   ]
  },
  {
   "cell_type": "markdown",
   "metadata": {},
   "source": [
    "## Let's look inside the column abv"
   ]
  },
  {
   "cell_type": "markdown",
   "metadata": {},
   "source": [
    "### Looking inside the dataset, we found that some values in the abv column are words which we are going to delete them."
   ]
  },
  {
   "cell_type": "code",
   "execution_count": 4,
   "metadata": {},
   "outputs": [
    {
     "data": {
      "text/plain": [
       "array([4.5, 5.2, 5.0, 7.0, 6.2, 8.7, 5.9, 5.6, 4.8, 8.0, 7.5, 6.0, 5.1,\n",
       "       10.0, 5.5, 8.5, 6.7, 6.6, 6.5, 5.94, 6.3, 11.5, 9.7, 6.1, 5.4, 6.4,\n",
       "       4.4, 11.7, 5.8, 10.5, 8.3, 8.6, 16.03, 9.28, 11.6, 4.9, 5.3, 7.7,\n",
       "       4.2, 8.1, 3.9, 4.6, 9.0, 6.8, 7.25, 4.3, 3.8, 3.5, 7.3, 5.7, 8.9,\n",
       "       11.3, 9.2, 7.1, 11.0, 14.0, 12.0, 8.2, 7.2, 9.1, 4.0, 9.5, 4.7,\n",
       "       7.4, 6.45, 5.75, 9.9, 10.2, 15.04, 9.6, 6.9, 7.8, 11.4, 12.7, 4.1,\n",
       "       14.9, 7.85, 4.73, 6.54, 5.57, 4.99, 4.95, 8.75, 6.15, 11.9, 9.4,\n",
       "       15.0, 8.41, 7.9, 7.6, 5.86, 4.85, 10.1, 99.99, 9.47, 3.6, 13.0,\n",
       "       11.1, 5.52, 3.3, 3.4, 4.97, 6.75, 3.75, 4.66, 4.74, 4.19, 3.79,\n",
       "       4.15, 4.75, 8.8, 4.94, 9.3, 11.8, 18.0, 5.25, 9.8, 3.2, 5.35,\n",
       "       '10.4', '7', '0', '5', '5.7', '8.5', '9', '8', '4.5', '6', '7.6',\n",
       "       '4.7', '5.2', '5.4', '10.5', '6.5', '5.3', '6.2', '5.6', '5.8',\n",
       "       '10.2', '4.8', '6.1', '7.7', '10', '7.5', '5.5', '12', '4.6',\n",
       "       '6.9', '10.8', '7.8', '4.4', '5.1', '9.5', '7.4', ' Chinook',\n",
       "       '11.5', '3.5',\n",
       "       ' Kim traveled around sampling their homebrews to the public. ',\n",
       "       '4.3', '4.1', '6.6', '5.9', '8.4', '6.8', '9.6', '4.9', '6.7',\n",
       "       '7.2', '4.2', '4', '3.85', '4.65', '3.9', '9.8',\n",
       "       '2010-07-22 20:00:20',\n",
       "       ' tropical flavors typical of European-brewed style.', '8.7',\n",
       "       '3.8', '7.9', '8.3', '7.25', '11', '20', '13.6', '5.25', '5.35',\n",
       "       '6.85', '3.22', '6.4', '9.3', '13', '8.75', '10.1', '18', '3.31',\n",
       "       '11.2', '4.33', '5.16', '5.42', '6.66', '3.3', '8.2', '6.3', '3.2',\n",
       "       '11.8', '7.1', '5.68', '5.55', '11.1', '3.6', '8.1', '11.6', '2.9',\n",
       "       '0.5', '7.3', '4.75', '12.5', '6.25', '3.7', '16', '10.3', '9.4',\n",
       "       '5.73', 12.3, 10.3, 12.5, 5.95, 6.25, 6.33, 8.54, 9.25, 7.45, 2.8,\n",
       "       8.26, 10.6, 18.2, 32.0, 8.25, 8.4, 14.5, 5.01, 1.0], dtype=object)"
      ]
     },
     "execution_count": 4,
     "metadata": {},
     "output_type": "execute_result"
    }
   ],
   "source": [
    "beers_new.abv.unique()"
   ]
  },
  {
   "cell_type": "markdown",
   "metadata": {},
   "source": [
    "### All wrong values are  going to be change to NaN and we are going to drop them too."
   ]
  },
  {
   "cell_type": "code",
   "execution_count": 55,
   "metadata": {},
   "outputs": [
    {
     "data": {
      "text/plain": [
       "array([ 4.5 ,  5.2 ,  5.  ,  7.  ,  6.2 ,  8.7 ,  5.9 ,  5.6 ,  4.8 ,\n",
       "        8.  ,  7.5 ,  6.  ,  5.1 , 10.  ,  5.5 ,  8.5 ,  6.7 ,  6.6 ,\n",
       "        6.5 ,  5.94,  6.3 , 11.5 ,  9.7 ,  6.1 ,  5.4 ,  6.4 ,  4.4 ,\n",
       "       11.7 ,  5.8 , 10.5 ,  8.3 ,  8.6 , 16.03,  9.28, 11.6 ,  4.9 ,\n",
       "        5.3 ,  7.7 ,  4.2 ,  8.1 ,  3.9 ,  4.6 ,  9.  ,  6.8 ,  7.25,\n",
       "        4.3 ,  3.8 ,  3.5 ,  7.3 ,  5.7 ,  8.9 , 11.3 ,  9.2 ,  7.1 ,\n",
       "       11.  , 14.  , 12.  ,  8.2 ,  7.2 ,  9.1 ,  4.  ,  9.5 ,  4.7 ,\n",
       "        7.4 ,  6.45,  5.75,  9.9 , 10.2 , 15.04,  9.6 ,  6.9 ,  7.8 ,\n",
       "       11.4 , 12.7 ,  4.1 , 14.9 ,  7.85,  4.73,  6.54,  5.57,  4.99,\n",
       "        4.95,  8.75,  6.15, 11.9 ,  9.4 , 15.  ,  8.41,  7.9 ,  7.6 ,\n",
       "        5.86,  4.85, 10.1 , 99.99,  9.47,  3.6 , 13.  , 11.1 ,  5.52,\n",
       "        3.3 ,  3.4 ,  4.97,  6.75,  3.75,  4.66,  4.74,  4.19,  3.79,\n",
       "        4.15,  4.75,  8.8 ,  4.94,  9.3 , 11.8 , 18.  ,  5.25,  9.8 ,\n",
       "        3.2 ,  5.35, 10.4 ,  0.  , 10.8 ,  8.4 ,  3.85,  4.65, 20.  ,\n",
       "       13.6 ,  6.85,  3.22,  3.31, 11.2 ,  4.33,  5.16,  5.42,  6.66,\n",
       "        5.68,  5.55,  2.9 ,  0.5 , 12.5 ,  6.25,  3.7 , 16.  , 10.3 ,\n",
       "        5.73, 12.3 ,  5.95,  6.33,  8.54,  9.25,  7.45,  2.8 ,  8.26,\n",
       "       10.6 , 18.2 , 32.  ,  8.25, 14.5 ,  5.01,  1.  ])"
      ]
     },
     "execution_count": 55,
     "metadata": {},
     "output_type": "execute_result"
    }
   ],
   "source": [
    "beers_new.abv = pd.to_numeric(beers_new.abv, errors='coerce')\n",
    "beers_new.abv.unique()"
   ]
  },
  {
   "cell_type": "markdown",
   "metadata": {},
   "source": [
    "### I drop the last nan values."
   ]
  },
  {
   "cell_type": "code",
   "execution_count": 19,
   "metadata": {},
   "outputs": [
    {
     "name": "stdout",
     "output_type": "stream",
     "text": [
      "<class 'pandas.core.frame.DataFrame'>\n",
      "Int64Index: 2523 entries, 0 to 2522\n",
      "Data columns (total 5 columns):\n",
      "brewery_id    2523 non-null object\n",
      "name          2523 non-null object\n",
      "cat_id        2523 non-null object\n",
      "style_id      2523 non-null object\n",
      "abv           2523 non-null float64\n",
      "dtypes: float64(1), object(4)\n",
      "memory usage: 118.3+ KB\n"
     ]
    },
    {
     "data": {
      "text/html": [
       "<div>\n",
       "<style scoped>\n",
       "    .dataframe tbody tr th:only-of-type {\n",
       "        vertical-align: middle;\n",
       "    }\n",
       "\n",
       "    .dataframe tbody tr th {\n",
       "        vertical-align: top;\n",
       "    }\n",
       "\n",
       "    .dataframe thead th {\n",
       "        text-align: right;\n",
       "    }\n",
       "</style>\n",
       "<table border=\"1\" class=\"dataframe\">\n",
       "  <thead>\n",
       "    <tr style=\"text-align: right;\">\n",
       "      <th></th>\n",
       "      <th>brewery_id</th>\n",
       "      <th>name</th>\n",
       "      <th>cat_id</th>\n",
       "      <th>style_id</th>\n",
       "      <th>abv</th>\n",
       "    </tr>\n",
       "  </thead>\n",
       "  <tbody>\n",
       "    <tr>\n",
       "      <th>0</th>\n",
       "      <td>812</td>\n",
       "      <td>Hocus Pocus</td>\n",
       "      <td>11</td>\n",
       "      <td>116</td>\n",
       "      <td>4.5</td>\n",
       "    </tr>\n",
       "    <tr>\n",
       "      <th>1</th>\n",
       "      <td>1385</td>\n",
       "      <td>Winter Warmer</td>\n",
       "      <td>1</td>\n",
       "      <td>13</td>\n",
       "      <td>5.2</td>\n",
       "    </tr>\n",
       "    <tr>\n",
       "      <th>2</th>\n",
       "      <td>1099</td>\n",
       "      <td>Oatmeal Stout</td>\n",
       "      <td>3</td>\n",
       "      <td>42</td>\n",
       "      <td>5.0</td>\n",
       "    </tr>\n",
       "    <tr>\n",
       "      <th>3</th>\n",
       "      <td>1099</td>\n",
       "      <td>Imperial Stout</td>\n",
       "      <td>3</td>\n",
       "      <td>42</td>\n",
       "      <td>7.0</td>\n",
       "    </tr>\n",
       "    <tr>\n",
       "      <th>4</th>\n",
       "      <td>1023</td>\n",
       "      <td>Wiesen Edel Weisse</td>\n",
       "      <td>4</td>\n",
       "      <td>50</td>\n",
       "      <td>6.2</td>\n",
       "    </tr>\n",
       "    <tr>\n",
       "      <th>...</th>\n",
       "      <td>...</td>\n",
       "      <td>...</td>\n",
       "      <td>...</td>\n",
       "      <td>...</td>\n",
       "      <td>...</td>\n",
       "    </tr>\n",
       "    <tr>\n",
       "      <th>2518</th>\n",
       "      <td>1417</td>\n",
       "      <td>Watershed IPA</td>\n",
       "      <td>3</td>\n",
       "      <td>30</td>\n",
       "      <td>7.1</td>\n",
       "    </tr>\n",
       "    <tr>\n",
       "      <th>2519</th>\n",
       "      <td>1087</td>\n",
       "      <td>Estrella Levante Especial</td>\n",
       "      <td>9</td>\n",
       "      <td>106</td>\n",
       "      <td>5.4</td>\n",
       "    </tr>\n",
       "    <tr>\n",
       "      <th>2520</th>\n",
       "      <td>1087</td>\n",
       "      <td>Estrella Levante Sin 0.0% Alcohol</td>\n",
       "      <td>9</td>\n",
       "      <td>106</td>\n",
       "      <td>1.0</td>\n",
       "    </tr>\n",
       "    <tr>\n",
       "      <th>2521</th>\n",
       "      <td>1419</td>\n",
       "      <td>Koshihikari Echigo Beer</td>\n",
       "      <td>11</td>\n",
       "      <td>132</td>\n",
       "      <td>5.0</td>\n",
       "    </tr>\n",
       "    <tr>\n",
       "      <th>2522</th>\n",
       "      <td>1421</td>\n",
       "      <td>The Public</td>\n",
       "      <td>3</td>\n",
       "      <td>26</td>\n",
       "      <td>6.0</td>\n",
       "    </tr>\n",
       "  </tbody>\n",
       "</table>\n",
       "<p>2523 rows × 5 columns</p>\n",
       "</div>"
      ],
      "text/plain": [
       "     brewery_id                               name cat_id style_id  abv\n",
       "0           812                        Hocus Pocus     11      116  4.5\n",
       "1          1385                      Winter Warmer      1       13  5.2\n",
       "2          1099                      Oatmeal Stout      3       42  5.0\n",
       "3          1099                     Imperial Stout      3       42  7.0\n",
       "4          1023                 Wiesen Edel Weisse      4       50  6.2\n",
       "...         ...                                ...    ...      ...  ...\n",
       "2518       1417                      Watershed IPA      3       30  7.1\n",
       "2519       1087          Estrella Levante Especial      9      106  5.4\n",
       "2520       1087  Estrella Levante Sin 0.0% Alcohol      9      106  1.0\n",
       "2521       1419            Koshihikari Echigo Beer     11      132  5.0\n",
       "2522       1421                         The Public      3       26  6.0\n",
       "\n",
       "[2523 rows x 5 columns]"
      ]
     },
     "execution_count": 19,
     "metadata": {},
     "output_type": "execute_result"
    }
   ],
   "source": [
    "#I drop the nan value from before:\n",
    "beers_new = beers_new.dropna()\n"
   ]
  },
  {
   "cell_type": "markdown",
   "metadata": {},
   "source": [
    "### Drop 3 more values which are number in the column 'Name' because we can not identify the real meaning or beer with the information we have."
   ]
  },
  {
   "cell_type": "code",
   "execution_count": null,
   "metadata": {},
   "outputs": [],
   "source": [
    "#Checking the values if they have sense:\n",
    "beers_new.cat_id.unique()\n",
    "\n",
    "# Locate the number and drop them from the column:\n",
    "beers_new = beers_new.drop(beers_new[beers_new.name.str.isdigit()].index).reset_index(drop=True)\n",
    "\n",
    "beers_new"
   ]
  },
  {
   "cell_type": "markdown",
   "metadata": {},
   "source": [
    "#### Eliminate the value which has none comment sense of abv, which is the one with 99.99"
   ]
  },
  {
   "cell_type": "code",
   "execution_count": 65,
   "metadata": {},
   "outputs": [
    {
     "data": {
      "text/html": [
       "<div>\n",
       "<style scoped>\n",
       "    .dataframe tbody tr th:only-of-type {\n",
       "        vertical-align: middle;\n",
       "    }\n",
       "\n",
       "    .dataframe tbody tr th {\n",
       "        vertical-align: top;\n",
       "    }\n",
       "\n",
       "    .dataframe thead th {\n",
       "        text-align: right;\n",
       "    }\n",
       "</style>\n",
       "<table border=\"1\" class=\"dataframe\">\n",
       "  <thead>\n",
       "    <tr style=\"text-align: right;\">\n",
       "      <th></th>\n",
       "      <th>brewery_id</th>\n",
       "      <th>name</th>\n",
       "      <th>cat_id</th>\n",
       "      <th>style_id</th>\n",
       "      <th>abv</th>\n",
       "    </tr>\n",
       "  </thead>\n",
       "  <tbody>\n",
       "  </tbody>\n",
       "</table>\n",
       "</div>"
      ],
      "text/plain": [
       "Empty DataFrame\n",
       "Columns: [brewery_id, name, cat_id, style_id, abv]\n",
       "Index: []"
      ]
     },
     "execution_count": 65,
     "metadata": {},
     "output_type": "execute_result"
    }
   ],
   "source": [
    "beers_new[(beers_new.abv == beers_new.abv.max())]\n",
    "beers_new = beers_new.drop(565)\n"
   ]
  },
  {
   "cell_type": "markdown",
   "metadata": {},
   "source": [
    "### All the values change correctly to float number, so we are going to see the other columns"
   ]
  },
  {
   "cell_type": "code",
   "execution_count": 33,
   "metadata": {
    "scrolled": true
   },
   "outputs": [
    {
     "data": {
      "text/plain": [
       "array([812, 1385, 1099, 1023, 483, 1220, 878, 935, 1307, 723, 160, 1221,\n",
       "       670, 923, 1142, 161, 779, 266, 1202, 1185, 1260, 1056, 884, 345,\n",
       "       727, 1075, 304, 481, 441, 584, 397, 562, 622, 447, 1392, 919, 1084,\n",
       "       595, 31, 307, 859, 39, 810, 62, 1136, 765, 1315, 484, 905, 70, 604,\n",
       "       296, 708, 590, 1179, 1274, 312, 624, 1126, 701, 892, 588, 385, 308,\n",
       "       1004, 707, 133, 236, 272, 285, 7, 167, 903, 431, 757, 1115, 363,\n",
       "       425, 609, 586, 98, 844, 156, 127, 367, 1375, 638, 1043, 744, 626,\n",
       "       1204, 262, 511, 230, 1120, 74, 204, 44, 233, 1116, 1344, 216, 357,\n",
       "       873, 598, 457, 829, 496, 497, 1296, 842, 445, 1124, 1151, 504, 526,\n",
       "       1030, 494, 641, 1177, 21, 540, 459, 221, 368, 745, 301, 169, 671,\n",
       "       370, 1303, 742, 175, 1331, 803, 26, 691, 823, 503, 916, 283, 1321,\n",
       "       1158, 409, 841, 700, 549, 71, 612, 15, 1181, 527, 1169, 703, 1242,\n",
       "       1366, 592, 371, 36, 491, 1258, 866, 601, 1027, 1129, 1305, 76, 144,\n",
       "       537, 263, 1379, 440, 1045, 1243, 159, 376, 1064, 869, 1191, 793,\n",
       "       157, 1012, 442, 953, 662, 334, 498, 945, 68, 1238, 751, 524, 404,\n",
       "       29, 936, 1009, 731, 696, 306, 358, 299, 322, 321, 913, 1298, 268,\n",
       "       961, 659, 255, 853, 993, 1290, 520, 94, 512, 1301, 619, 1219, 463,\n",
       "       550, 947, 347, 1217, 40, 752, 637, 93, 287, 857, 572, 832, 309,\n",
       "       563, 171, 1037, 1020, 381, 392, 465, 705, 1176, 88, 220, 746, 733,\n",
       "       208, 819, 804, 643, 374, 1285, 771, 557, 259, 566, 1280, 1373, 652,\n",
       "       888, 1314, 1268, 930, 886, 791, 1271, 110, 344, '536', '344',\n",
       "       '930', '77', '708', '1307', '652', '193', '483', '62', '1094',\n",
       "       '39', '1099', '1356', '919', '1281', '98', '585', '727', '1204',\n",
       "       '1301', '857', '1206', '868', '1220', '572', '526', '1017', '191',\n",
       "       '269', '1016', '1013', '627', '953', '1286', '637', '249', '853',\n",
       "       '633', '1254', '68', '1165', '909', '956', '1070', '563', '884',\n",
       "       '827', '13', '381', '1380', '907', '385', '88', '1319', '562',\n",
       "       '1260', '1197', '304', '656', '897', '1103', '867', '1052', '157',\n",
       "       '160', '111', '1202', '56', '540', '858', '442', '739', '1018',\n",
       "       '1211', '902', '1091', '364', '890', '303', '597', '121', '579',\n",
       "       '1023', '448', '1346', '235', '1158', '1218', '965', '686', '1367',\n",
       "       '441', '1142', '1291', '179', '1179', '985', '674', '512', '1163',\n",
       "       '1029', '1004', '259', '520', '12', '274', '19', '1031', '772',\n",
       "       '333', '251', '345', '878', '180', '1379', '122', '908', '812',\n",
       "       '863', '44', '1326', '45', '1388', '399', '960', '762', '975',\n",
       "       '698', '771', '963', '1009', '755', '1352', '1333', '49', '459',\n",
       "       '541', '981', '894', '2', '4', '11', '3', '265', '774', '850',\n",
       "       '1316', '1173', '1086', '551', '378', '17', '1144', '145', '227',\n",
       "       '25', '106', '319', '87', '100', '784', '339', '1383', '1072',\n",
       "       '247', '1313', '343', '289', '968', '1357', '544', '423', '650',\n",
       "       '616', '713', '110', '5', '1122', '1298', '765', '198', '360',\n",
       "       '618', '226', '161', '1117', '23', '1349', '328', '10', '1048',\n",
       "       '369', '465', '646', '154', '205', '1176', '1005', '1361', '83',\n",
       "       '1332', '1252', '473', '281', '1044', '1187', '847', '647', '1376',\n",
       "       '588', '988', '959', '41', '801', '1194', '605', '127', '586',\n",
       "       '1258', '1337', '366', '144', '95', '480', '60', '1224', '769',\n",
       "       '1026', '85', '635', '634', '302', '1374', '1385', '813', '509',\n",
       "       '1195', '1210', '1391', '658', '972', '47', '530', '611', '285',\n",
       "       '470', '242', '1354', '1262', '320', '1019', '955', '920', '426',\n",
       "       '37', '1247', '35', '131', '113', '546', '998', '76', '209', '549',\n",
       "       '538', '314', '831', '460', '90', '1235', '741', '1248', '690',\n",
       "       '263', '1244', '296', '169', '280', '430', '1273', '433', '353',\n",
       "       '826', '415', '236', '848', '967', '882', '954', '456', '660',\n",
       "       '951', '428', '700', '61', '1219', '978', '609', '751', '114',\n",
       "       '705', '1243', '723', '253', '463', '1149', '397', '1000', '477',\n",
       "       '869', '604', '905', '976', '476', '396', '1038', '1251', '424',\n",
       "       '1093', '923', '1128', '97', '1125', '490', '833', '916', '1049',\n",
       "       '1061', '1348', '794', '82', '1191', '1136', '1221', '1054', '531',\n",
       "       '796', '1287', '881', '1113', '506', '1182', '999', '1289', '1087',\n",
       "       '1181', '1170', '1160', '1081', 1081, 1348, 428, 1173, 1149, 1286,\n",
       "       1337, 929, 546, 384, 956, 1182, 1326, 858, 1211, 1089, 1055, 876,\n",
       "       787, 462, 1090, 1245, 678, 778, 509, 260, 797, 543, 100, 1320, 72,\n",
       "       1166, 792, 1100, 534, 656, 851, 451, 1091, 692, 714, 1350, 1330,\n",
       "       402, 1250, 474, 1168, 836, 245, 1148, 1304, 63, 1087, 585, 426,\n",
       "       783, 722, 634, 10, 1150, 469, 587, 391, 1125, 1092, 123, 1058,\n",
       "       1246, 405, 999, 349, 325, 1127, 1170, 1137, 47, 1336, 1232, 1186,\n",
       "       1108, 49, 1318, 911, 398, 1332, 605, 974, 460, 863, 539, 633, 150,\n",
       "       673, 1184, 940, 3, 495, 657, 756, 767, 51, 959, 507, 885, 17, 658,\n",
       "       1155, 686, 1223, 284, 575, 454, 54, 882, 1160, 476, 1363, 1062,\n",
       "       172, 136, 1352, 1035, 541, 420, 57, 241, 379, 718, 1044, 1, 341,\n",
       "       1172, 202, 444, 1038, 825, 328, 1213, 1251, 87, 45, 914, 23, 1394,\n",
       "       1396, 1397, 1400, 415, 1401, 164, 618, 1402, 1312, 1404, 1405,\n",
       "       1409, 1410, 1391, 1411, 1412, 1413, 1416, 1417, 1419, 1421],\n",
       "      dtype=object)"
      ]
     },
     "execution_count": 33,
     "metadata": {},
     "output_type": "execute_result"
    }
   ],
   "source": [
    "beers_new.style_id.unique()    # we can change them to floating numbers, nothing rare\n",
    "\n",
    "beers_new.cat_id.unique()      # we can change them to floating numbers, nothing rare\n",
    "\n",
    "beers_new.brewery_id.unique() #we can change them to floating numbers, nothing rare\n",
    "\n"
   ]
  },
  {
   "cell_type": "markdown",
   "metadata": {},
   "source": [
    "## All the columns do not have any strange number or text inside, so we are going to pocess to change the type of them."
   ]
  },
  {
   "cell_type": "code",
   "execution_count": 35,
   "metadata": {},
   "outputs": [
    {
     "name": "stdout",
     "output_type": "stream",
     "text": [
      "<class 'pandas.core.frame.DataFrame'>\n",
      "RangeIndex: 2523 entries, 0 to 2522\n",
      "Data columns (total 5 columns):\n",
      "brewery_id    2523 non-null float64\n",
      "name          2523 non-null object\n",
      "cat_id        2523 non-null float64\n",
      "style_id      2523 non-null float64\n",
      "abv           2523 non-null float64\n",
      "dtypes: float64(4), object(1)\n",
      "memory usage: 98.7+ KB\n"
     ]
    }
   ],
   "source": [
    "beers_new[['brewery_id','abv', 'cat_id', 'style_id']] = beers_new[['brewery_id','abv', 'cat_id', 'style_id']].astype('float') \n",
    "beers_new.info()"
   ]
  },
  {
   "cell_type": "code",
   "execution_count": 36,
   "metadata": {},
   "outputs": [
    {
     "data": {
      "text/html": [
       "<div>\n",
       "<style scoped>\n",
       "    .dataframe tbody tr th:only-of-type {\n",
       "        vertical-align: middle;\n",
       "    }\n",
       "\n",
       "    .dataframe tbody tr th {\n",
       "        vertical-align: top;\n",
       "    }\n",
       "\n",
       "    .dataframe thead th {\n",
       "        text-align: right;\n",
       "    }\n",
       "</style>\n",
       "<table border=\"1\" class=\"dataframe\">\n",
       "  <thead>\n",
       "    <tr style=\"text-align: right;\">\n",
       "      <th></th>\n",
       "      <th>brewery_id</th>\n",
       "      <th>name</th>\n",
       "      <th>cat_id</th>\n",
       "      <th>style_id</th>\n",
       "      <th>abv</th>\n",
       "    </tr>\n",
       "  </thead>\n",
       "  <tbody>\n",
       "    <tr>\n",
       "      <th>0</th>\n",
       "      <td>812.0</td>\n",
       "      <td>Hocus Pocus</td>\n",
       "      <td>11.0</td>\n",
       "      <td>116.0</td>\n",
       "      <td>4.5</td>\n",
       "    </tr>\n",
       "    <tr>\n",
       "      <th>1</th>\n",
       "      <td>1385.0</td>\n",
       "      <td>Winter Warmer</td>\n",
       "      <td>1.0</td>\n",
       "      <td>13.0</td>\n",
       "      <td>5.2</td>\n",
       "    </tr>\n",
       "    <tr>\n",
       "      <th>2</th>\n",
       "      <td>1099.0</td>\n",
       "      <td>Oatmeal Stout</td>\n",
       "      <td>3.0</td>\n",
       "      <td>42.0</td>\n",
       "      <td>5.0</td>\n",
       "    </tr>\n",
       "    <tr>\n",
       "      <th>3</th>\n",
       "      <td>1099.0</td>\n",
       "      <td>Imperial Stout</td>\n",
       "      <td>3.0</td>\n",
       "      <td>42.0</td>\n",
       "      <td>7.0</td>\n",
       "    </tr>\n",
       "    <tr>\n",
       "      <th>4</th>\n",
       "      <td>1023.0</td>\n",
       "      <td>Wiesen Edel Weisse</td>\n",
       "      <td>4.0</td>\n",
       "      <td>50.0</td>\n",
       "      <td>6.2</td>\n",
       "    </tr>\n",
       "    <tr>\n",
       "      <th>...</th>\n",
       "      <td>...</td>\n",
       "      <td>...</td>\n",
       "      <td>...</td>\n",
       "      <td>...</td>\n",
       "      <td>...</td>\n",
       "    </tr>\n",
       "    <tr>\n",
       "      <th>2518</th>\n",
       "      <td>1417.0</td>\n",
       "      <td>Watershed IPA</td>\n",
       "      <td>3.0</td>\n",
       "      <td>30.0</td>\n",
       "      <td>7.1</td>\n",
       "    </tr>\n",
       "    <tr>\n",
       "      <th>2519</th>\n",
       "      <td>1087.0</td>\n",
       "      <td>Estrella Levante Especial</td>\n",
       "      <td>9.0</td>\n",
       "      <td>106.0</td>\n",
       "      <td>5.4</td>\n",
       "    </tr>\n",
       "    <tr>\n",
       "      <th>2520</th>\n",
       "      <td>1087.0</td>\n",
       "      <td>Estrella Levante Sin 0.0% Alcohol</td>\n",
       "      <td>9.0</td>\n",
       "      <td>106.0</td>\n",
       "      <td>1.0</td>\n",
       "    </tr>\n",
       "    <tr>\n",
       "      <th>2521</th>\n",
       "      <td>1419.0</td>\n",
       "      <td>Koshihikari Echigo Beer</td>\n",
       "      <td>11.0</td>\n",
       "      <td>132.0</td>\n",
       "      <td>5.0</td>\n",
       "    </tr>\n",
       "    <tr>\n",
       "      <th>2522</th>\n",
       "      <td>1421.0</td>\n",
       "      <td>The Public</td>\n",
       "      <td>3.0</td>\n",
       "      <td>26.0</td>\n",
       "      <td>6.0</td>\n",
       "    </tr>\n",
       "  </tbody>\n",
       "</table>\n",
       "<p>2523 rows × 5 columns</p>\n",
       "</div>"
      ],
      "text/plain": [
       "      brewery_id                               name  cat_id  style_id  abv\n",
       "0          812.0                        Hocus Pocus    11.0     116.0  4.5\n",
       "1         1385.0                      Winter Warmer     1.0      13.0  5.2\n",
       "2         1099.0                      Oatmeal Stout     3.0      42.0  5.0\n",
       "3         1099.0                     Imperial Stout     3.0      42.0  7.0\n",
       "4         1023.0                 Wiesen Edel Weisse     4.0      50.0  6.2\n",
       "...          ...                                ...     ...       ...  ...\n",
       "2518      1417.0                      Watershed IPA     3.0      30.0  7.1\n",
       "2519      1087.0          Estrella Levante Especial     9.0     106.0  5.4\n",
       "2520      1087.0  Estrella Levante Sin 0.0% Alcohol     9.0     106.0  1.0\n",
       "2521      1419.0            Koshihikari Echigo Beer    11.0     132.0  5.0\n",
       "2522      1421.0                         The Public     3.0      26.0  6.0\n",
       "\n",
       "[2523 rows x 5 columns]"
      ]
     },
     "execution_count": 36,
     "metadata": {},
     "output_type": "execute_result"
    }
   ],
   "source": [
    "beers_new"
   ]
  },
  {
   "cell_type": "markdown",
   "metadata": {},
   "source": [
    "##### Create the new dataset for beers which we are going to use."
   ]
  },
  {
   "cell_type": "code",
   "execution_count": 39,
   "metadata": {},
   "outputs": [],
   "source": [
    "beers_new.to_csv('NEW_DATA/beers_new.csv',index=False)"
   ]
  },
  {
   "cell_type": "markdown",
   "metadata": {},
   "source": [
    "#### Read the file from beers:"
   ]
  },
  {
   "cell_type": "code",
   "execution_count": 40,
   "metadata": {},
   "outputs": [],
   "source": [
    "beers = pd.read_csv('NEW_DATA/beers_new.csv')\n"
   ]
  },
  {
   "cell_type": "markdown",
   "metadata": {},
   "source": [
    "# Import table of breweries and create the new dataset of it :"
   ]
  },
  {
   "cell_type": "code",
   "execution_count": 42,
   "metadata": {},
   "outputs": [
    {
     "name": "stdout",
     "output_type": "stream",
     "text": [
      "<class 'pandas.core.frame.DataFrame'>\n",
      "RangeIndex: 1414 entries, 0 to 1413\n",
      "Data columns (total 6 columns):\n",
      "id          1414 non-null int64\n",
      "name        1414 non-null object\n",
      "address1    1145 non-null object\n",
      "city        1392 non-null object\n",
      "state       1232 non-null object\n",
      "country     1413 non-null object\n",
      "dtypes: int64(1), object(5)\n",
      "memory usage: 66.4+ KB\n"
     ]
    }
   ],
   "source": [
    "breweries = pd.read_csv('Raw Data/Old_Data/breweries.csv')\n",
    "\n",
    "\n",
    "breweries = breweries.drop( columns= ['filepath','phone','website','last_mod','code','address2','descript'] )\n",
    "\n",
    "#checking if there is any problem with the data:\n",
    "breweries.info()\n",
    "\n",
    "\n"
   ]
  },
  {
   "cell_type": "markdown",
   "metadata": {},
   "source": [
    "# Looking for any problem inside the columns:\n"
   ]
  },
  {
   "cell_type": "code",
   "execution_count": 45,
   "metadata": {},
   "outputs": [
    {
     "data": {
      "text/plain": [
       "id            0\n",
       "name          0\n",
       "address1    269\n",
       "city         22\n",
       "state       182\n",
       "country       1\n",
       "dtype: int64"
      ]
     },
     "execution_count": 45,
     "metadata": {},
     "output_type": "execute_result"
    }
   ],
   "source": [
    "breweries.isna().sum()\n",
    "\n",
    "# We can let this Nan values because we do not need it for the datasets analysis.\n"
   ]
  },
  {
   "cell_type": "code",
   "execution_count": null,
   "metadata": {},
   "outputs": [],
   "source": [
    "#creating the new file of breweries:\n",
    "\n",
    "breweries.to_csv('REAL_Data_beers/NEW_DATA/breweries_new.csv',index=False)\n",
    "\n",
    "#for reading the file:\n",
    "\n",
    "breweries = pd.read_csv('NEW_DATA/breweries_new.csv',index=False)"
   ]
  },
  {
   "cell_type": "code",
   "execution_count": null,
   "metadata": {},
   "outputs": [],
   "source": []
  },
  {
   "cell_type": "code",
   "execution_count": null,
   "metadata": {},
   "outputs": [],
   "source": []
  },
  {
   "cell_type": "code",
   "execution_count": null,
   "metadata": {},
   "outputs": [],
   "source": []
  },
  {
   "cell_type": "code",
   "execution_count": null,
   "metadata": {},
   "outputs": [],
   "source": []
  },
  {
   "cell_type": "markdown",
   "metadata": {},
   "source": [
    "# Import table of categories"
   ]
  },
  {
   "cell_type": "code",
   "execution_count": 49,
   "metadata": {},
   "outputs": [
    {
     "name": "stdout",
     "output_type": "stream",
     "text": [
      "<class 'pandas.core.frame.DataFrame'>\n",
      "RangeIndex: 11 entries, 0 to 10\n",
      "Data columns (total 2 columns):\n",
      "id          11 non-null int64\n",
      "cat_name    11 non-null object\n",
      "dtypes: int64(1), object(1)\n",
      "memory usage: 304.0+ bytes\n"
     ]
    }
   ],
   "source": [
    "categories = pd.read_csv('Raw Data/Old_Data/categories.csv')\n",
    "\n",
    "#drop column not using:\n",
    "categories = categories.drop(columns=['last_mod'])\n",
    "\n",
    "# Create the new csv:\n",
    "categories.to_csv('NEW_DATA/categories_new.csv',index=False)\n",
    "\n",
    "\n",
    "categories.info()"
   ]
  },
  {
   "cell_type": "markdown",
   "metadata": {},
   "source": [
    "# Import table from styles and droping a column."
   ]
  },
  {
   "cell_type": "code",
   "execution_count": 54,
   "metadata": {},
   "outputs": [],
   "source": [
    "styles = pd.read_csv('Raw Data/Old_Data/styles.csv')\n",
    "\n",
    "\n",
    "styles = styles.drop(columns=['last_mod'])\n",
    "\n",
    "styles.to_csv('NEW_DATA/Style_new.csv',index=False)"
   ]
  },
  {
   "cell_type": "code",
   "execution_count": null,
   "metadata": {},
   "outputs": [],
   "source": []
  },
  {
   "cell_type": "code",
   "execution_count": null,
   "metadata": {},
   "outputs": [],
   "source": []
  },
  {
   "cell_type": "code",
   "execution_count": null,
   "metadata": {},
   "outputs": [],
   "source": []
  }
 ],
 "metadata": {
  "kernelspec": {
   "display_name": "Python 3",
   "language": "python",
   "name": "python3"
  },
  "language_info": {
   "codemirror_mode": {
    "name": "ipython",
    "version": 3
   },
   "file_extension": ".py",
   "mimetype": "text/x-python",
   "name": "python",
   "nbconvert_exporter": "python",
   "pygments_lexer": "ipython3",
   "version": "3.7.4"
  }
 },
 "nbformat": 4,
 "nbformat_minor": 2
}
