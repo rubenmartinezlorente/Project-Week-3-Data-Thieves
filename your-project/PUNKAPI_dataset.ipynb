{
 "cells": [
  {
   "cell_type": "markdown",
   "metadata": {},
   "source": [
    "# **Request to PUNK IPA API**"
   ]
  },
  {
   "cell_type": "code",
   "execution_count": 56,
   "metadata": {},
   "outputs": [
    {
     "data": {
      "text/html": [
       "<div>\n",
       "<style scoped>\n",
       "    .dataframe tbody tr th:only-of-type {\n",
       "        vertical-align: middle;\n",
       "    }\n",
       "\n",
       "    .dataframe tbody tr th {\n",
       "        vertical-align: top;\n",
       "    }\n",
       "\n",
       "    .dataframe thead th {\n",
       "        text-align: right;\n",
       "    }\n",
       "</style>\n",
       "<table border=\"1\" class=\"dataframe\">\n",
       "  <thead>\n",
       "    <tr style=\"text-align: right;\">\n",
       "      <th></th>\n",
       "      <th>name</th>\n",
       "      <th>abv</th>\n",
       "      <th>tagline</th>\n",
       "      <th>srm</th>\n",
       "      <th>ebc</th>\n",
       "      <th>food_pairing</th>\n",
       "      <th>ingredients</th>\n",
       "      <th>ph</th>\n",
       "      <th>method</th>\n",
       "    </tr>\n",
       "  </thead>\n",
       "  <tbody>\n",
       "    <tr>\n",
       "      <th>0</th>\n",
       "      <td>Buzz</td>\n",
       "      <td>4.5</td>\n",
       "      <td>A Real Bitter Experience.</td>\n",
       "      <td>10.0</td>\n",
       "      <td>20.0</td>\n",
       "      <td>[Spicy chicken tikka masala, Grilled chicken q...</td>\n",
       "      <td>{'malt': [{'name': 'Maris Otter Extra Pale', '...</td>\n",
       "      <td>4.4</td>\n",
       "      <td>{'mash_temp': [{'temp': {'value': 64, 'unit': ...</td>\n",
       "    </tr>\n",
       "    <tr>\n",
       "      <th>1</th>\n",
       "      <td>Trashy Blonde</td>\n",
       "      <td>4.1</td>\n",
       "      <td>You Know You Shouldn't</td>\n",
       "      <td>15.0</td>\n",
       "      <td>15.0</td>\n",
       "      <td>[Fresh crab with lemon, Garlic butter dipping ...</td>\n",
       "      <td>{'malt': [{'name': 'Maris Otter Extra Pale', '...</td>\n",
       "      <td>4.4</td>\n",
       "      <td>{'mash_temp': [{'temp': {'value': 69, 'unit': ...</td>\n",
       "    </tr>\n",
       "    <tr>\n",
       "      <th>2</th>\n",
       "      <td>Berliner Weisse With Yuzu - B-Sides</td>\n",
       "      <td>4.2</td>\n",
       "      <td>Japanese Citrus Berliner Weisse.</td>\n",
       "      <td>4.0</td>\n",
       "      <td>8.0</td>\n",
       "      <td>[Smoked chicken wings, Miso ramen, Yuzu cheese...</td>\n",
       "      <td>{'malt': [{'name': 'Propino Pale Malt', 'amoun...</td>\n",
       "      <td>3.2</td>\n",
       "      <td>{'mash_temp': [{'temp': {'value': 60, 'unit': ...</td>\n",
       "    </tr>\n",
       "    <tr>\n",
       "      <th>3</th>\n",
       "      <td>Pilsen Lager</td>\n",
       "      <td>6.3</td>\n",
       "      <td>Unleash the Yeast Series.</td>\n",
       "      <td>15.0</td>\n",
       "      <td>30.0</td>\n",
       "      <td>[Spicy crab cakes, Spicy cucumber and carrot T...</td>\n",
       "      <td>{'malt': [{'name': 'Extra Pale', 'amount': {'v...</td>\n",
       "      <td>4.4</td>\n",
       "      <td>{'mash_temp': [{'temp': {'value': 65, 'unit': ...</td>\n",
       "    </tr>\n",
       "    <tr>\n",
       "      <th>4</th>\n",
       "      <td>Avery Brown Dredge</td>\n",
       "      <td>7.2</td>\n",
       "      <td>Bloggers' Imperial Pilsner.</td>\n",
       "      <td>5.0</td>\n",
       "      <td>10.0</td>\n",
       "      <td>[Vietnamese squid salad, Chargrilled corn on t...</td>\n",
       "      <td>{'malt': [{'name': 'Lager Malt', 'amount': {'v...</td>\n",
       "      <td>4.4</td>\n",
       "      <td>{'mash_temp': [{'temp': {'value': 66, 'unit': ...</td>\n",
       "    </tr>\n",
       "  </tbody>\n",
       "</table>\n",
       "</div>"
      ],
      "text/plain": [
       "                                  name  abv                           tagline  \\\n",
       "0                                 Buzz  4.5         A Real Bitter Experience.   \n",
       "1                        Trashy Blonde  4.1            You Know You Shouldn't   \n",
       "2  Berliner Weisse With Yuzu - B-Sides  4.2  Japanese Citrus Berliner Weisse.   \n",
       "3                         Pilsen Lager  6.3         Unleash the Yeast Series.   \n",
       "4                   Avery Brown Dredge  7.2       Bloggers' Imperial Pilsner.   \n",
       "\n",
       "    srm   ebc                                       food_pairing  \\\n",
       "0  10.0  20.0  [Spicy chicken tikka masala, Grilled chicken q...   \n",
       "1  15.0  15.0  [Fresh crab with lemon, Garlic butter dipping ...   \n",
       "2   4.0   8.0  [Smoked chicken wings, Miso ramen, Yuzu cheese...   \n",
       "3  15.0  30.0  [Spicy crab cakes, Spicy cucumber and carrot T...   \n",
       "4   5.0  10.0  [Vietnamese squid salad, Chargrilled corn on t...   \n",
       "\n",
       "                                         ingredients   ph  \\\n",
       "0  {'malt': [{'name': 'Maris Otter Extra Pale', '...  4.4   \n",
       "1  {'malt': [{'name': 'Maris Otter Extra Pale', '...  4.4   \n",
       "2  {'malt': [{'name': 'Propino Pale Malt', 'amoun...  3.2   \n",
       "3  {'malt': [{'name': 'Extra Pale', 'amount': {'v...  4.4   \n",
       "4  {'malt': [{'name': 'Lager Malt', 'amount': {'v...  4.4   \n",
       "\n",
       "                                              method  \n",
       "0  {'mash_temp': [{'temp': {'value': 64, 'unit': ...  \n",
       "1  {'mash_temp': [{'temp': {'value': 69, 'unit': ...  \n",
       "2  {'mash_temp': [{'temp': {'value': 60, 'unit': ...  \n",
       "3  {'mash_temp': [{'temp': {'value': 65, 'unit': ...  \n",
       "4  {'mash_temp': [{'temp': {'value': 66, 'unit': ...  "
      ]
     },
     "execution_count": 56,
     "metadata": {},
     "output_type": "execute_result"
    }
   ],
   "source": [
    "# import libraries here\n",
    "\n",
    "import requests\n",
    "import pandas as pd\n",
    "import json\n",
    "\n",
    "# your code here\n",
    "PUNKIPA = 'https://api.punkapi.com/v2/beers'\n",
    "\n",
    "response = requests.get(PUNKIPA)\n",
    "beer = response.json()\n",
    "#print(json.dumps(beer[0], indent=6))   \n",
    "beer_df = pd.DataFrame(beer)\n",
    "newbeer = beer_df[['name','abv','tagline','srm','ebc','food_pairing','ingredients','ph','method']]\n",
    "\n",
    "newbeer.head() "
   ]
  },
  {
   "cell_type": "code",
   "execution_count": 37,
   "metadata": {},
   "outputs": [
    {
     "data": {
      "text/plain": [
       "{'mash_temp': [{'temp': {'value': 64, 'unit': 'celsius'}, 'duration': 75}],\n",
       " 'fermentation': {'temp': {'value': 19, 'unit': 'celsius'}},\n",
       " 'twist': None}"
      ]
     },
     "execution_count": 37,
     "metadata": {},
     "output_type": "execute_result"
    }
   ],
   "source": [
    "newbeer['method'].iloc[0]"
   ]
  },
  {
   "cell_type": "code",
   "execution_count": 43,
   "metadata": {
    "scrolled": true
   },
   "outputs": [
    {
     "name": "stderr",
     "output_type": "stream",
     "text": [
      "/anaconda3/lib/python3.7/site-packages/ipykernel_launcher.py:1: SettingWithCopyWarning: \n",
      "A value is trying to be set on a copy of a slice from a DataFrame.\n",
      "Try using .loc[row_indexer,col_indexer] = value instead\n",
      "\n",
      "See the caveats in the documentation: http://pandas.pydata.org/pandas-docs/stable/indexing.html#indexing-view-versus-copy\n",
      "  \"\"\"Entry point for launching an IPython kernel.\n"
     ]
    }
   ],
   "source": [
    "newbeer['food_pairing'] = newbeer['food_pairing'].apply(lambda x: ','.join(x))"
   ]
  },
  {
   "cell_type": "code",
   "execution_count": 44,
   "metadata": {},
   "outputs": [
    {
     "data": {
      "text/plain": [
       "Blue cheese beef burger,Glazed short ribs,Chocolate cake                                                          1\n",
       "Poached sole fillet with capers,Summer fruit salad,Banana split                                                   1\n",
       "Coffee dusted venison loin,Memphis-style beef short ribs,Chocolate orange brownies                                1\n",
       "Grilled portabello mushroom burger,Chicken sausages with creamy mash,Caramel and banana meringue pie              1\n",
       "Warm blackberry pie,Vinegar doused fish and chips,Aromatic korma curry with lemon and garlic naan                 1\n",
       "Roasted wood pigeon with black pudding,Pan seared venison fillet with juniper sauce,Apricot coconut cake          1\n",
       "Stilton on gingerbread biscuits,Pot roasted artichokes,Lamb chops with caramelised figs                           1\n",
       "Smoked chicken wings,Miso ramen,Yuzu cheesecake                                                                   1\n",
       "Vietnamese squid salad,Chargrilled corn on the cob with paprika butter,Strawberry and rhubarb pie                 1\n",
       "Pastrami,Swiss and horseradish sandwich,Sharp cheddar cheese and onion/ raisin chutney,Peanut brittle             1\n",
       "King prawn kebabs,Halibut with a mango and tomato salad,Mint chocloate ice cream                                  1\n",
       "Spicy chicken skewers,Fish tacos with hot sauce,Lemon pound cake with a ice sugar glaze                           1\n",
       "Vegetable egg scramble,Margherita pizza,Fresh berry crisp tart                                                    1\n",
       "Fresh crab with lemon,Garlic butter dipping sauce,Goats cheese salad,Creamy lemon bar doused in powdered sugar    1\n",
       "Fårikål (mutton stew) with a spicy twist,Fenalår (salted cured lamb),Krumkake with lingonberry jam             1\n",
       "Tandoori lamb with pomegranate,Beef Wellington with a red wine jus,Raspberry chocolate torte                      1\n",
       "Oysters,Hickory smoked ham,Rocky Road                                                                             1\n",
       "Kedgeree,Scotch broth with sourdough bread,Clootie dumpling                                                       1\n",
       "Spicy chicken tikka masala,Grilled chicken quesadilla,Caramel toffee cake                                         1\n",
       "Citrus salad with balsamic dressing,Lobster,Ginger and orange cookies                                             1\n",
       "Spicy crab cakes,Spicy cucumber and carrot Thai salad,Sweet filled dumplings                                      1\n",
       "Roasted garlic and chilli infused camembert cheese,Korean style chicken wings,Chocolate milk shake                1\n",
       "Fried crab cakes with avocado salsa,Spicy shredded pork roll with hot dipping sauce,Key lime pie                  1\n",
       "Coriander & chilli crab cakes,Goats cheese salad with walnuts, radish and blood orange,Pistachio cake             1\n",
       "Mussels with a garlic and herb sauce,Crab melt sandwich,Shortbread cookies                                        1\n",
       "Name: food_pairing, dtype: int64"
      ]
     },
     "execution_count": 44,
     "metadata": {},
     "output_type": "execute_result"
    }
   ],
   "source": [
    "newbeer['food_pairing'].value_counts()"
   ]
  },
  {
   "cell_type": "code",
   "execution_count": 54,
   "metadata": {},
   "outputs": [
    {
     "data": {
      "text/plain": [
       "<matplotlib.axes._subplots.AxesSubplot at 0x117d272e8>"
      ]
     },
     "execution_count": 54,
     "metadata": {},
     "output_type": "execute_result"
    },
    {
     "data": {
      "image/png": "[encoded data removed]",
      "text/plain": [
       "<Figure size 432x288 with 1 Axes>"
      ]
     },
     "metadata": {
      "needs_background": "light"
     },
     "output_type": "display_data"
    }
   ],
   "source": [
    "newbeer['abv'].plot(kind='box')"
   ]
  },
  {
   "cell_type": "code",
   "execution_count": null,
   "metadata": {},
   "outputs": [],
   "source": []
  }
 ],
 "metadata": {
  "kernelspec": {
   "display_name": "Python 3",
   "language": "python",
   "name": "python3"
  },
  "language_info": {
   "codemirror_mode": {
    "name": "ipython",
    "version": 3
   },
   "file_extension": ".py",
   "mimetype": "text/x-python",
   "name": "python",
   "nbconvert_exporter": "python",
   "pygments_lexer": "ipython3",
   "version": "3.7.3"
  }
 },
 "nbformat": 4,
 "nbformat_minor": 2
}
