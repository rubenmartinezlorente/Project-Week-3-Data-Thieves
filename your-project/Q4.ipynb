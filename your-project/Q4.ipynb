{
 "cells": [
  {
   "cell_type": "markdown",
   "metadata": {},
   "source": [
    "# Q4:  4. Is there any relationship between the ABV and the SEM (color of beer)?\n"
   ]
  },
  {
   "cell_type": "code",
   "execution_count": 5,
   "metadata": {},
   "outputs": [],
   "source": [
    "import pandas as pd\n",
    "punkapi = pd.read_csv('NEW_DATA/punkapi_clean.csv')\n"
   ]
  },
  {
   "cell_type": "markdown",
   "metadata": {},
   "source": [
    "### Quick overview abouth which parameter is related with"
   ]
  },
  {
   "cell_type": "code",
   "execution_count": 6,
   "metadata": {},
   "outputs": [
    {
     "data": {
      "text/html": [
       "<div>\n",
       "<style scoped>\n",
       "    .dataframe tbody tr th:only-of-type {\n",
       "        vertical-align: middle;\n",
       "    }\n",
       "\n",
       "    .dataframe tbody tr th {\n",
       "        vertical-align: top;\n",
       "    }\n",
       "\n",
       "    .dataframe thead th {\n",
       "        text-align: right;\n",
       "    }\n",
       "</style>\n",
       "<table border=\"1\" class=\"dataframe\">\n",
       "  <thead>\n",
       "    <tr style=\"text-align: right;\">\n",
       "      <th></th>\n",
       "      <th>abv</th>\n",
       "      <th>srm</th>\n",
       "      <th>ebc</th>\n",
       "      <th>ph</th>\n",
       "      <th>temperature</th>\n",
       "      <th>duration</th>\n",
       "    </tr>\n",
       "  </thead>\n",
       "  <tbody>\n",
       "    <tr>\n",
       "      <th>abv</th>\n",
       "      <td>1.000000</td>\n",
       "      <td>0.003290</td>\n",
       "      <td>0.014371</td>\n",
       "      <td>0.076030</td>\n",
       "      <td>-0.051953</td>\n",
       "      <td>0.168827</td>\n",
       "    </tr>\n",
       "    <tr>\n",
       "      <th>srm</th>\n",
       "      <td>0.003290</td>\n",
       "      <td>1.000000</td>\n",
       "      <td>0.998674</td>\n",
       "      <td>0.217878</td>\n",
       "      <td>0.406177</td>\n",
       "      <td>-0.142240</td>\n",
       "    </tr>\n",
       "    <tr>\n",
       "      <th>ebc</th>\n",
       "      <td>0.014371</td>\n",
       "      <td>0.998674</td>\n",
       "      <td>1.000000</td>\n",
       "      <td>0.218577</td>\n",
       "      <td>0.383028</td>\n",
       "      <td>-0.142240</td>\n",
       "    </tr>\n",
       "    <tr>\n",
       "      <th>ph</th>\n",
       "      <td>0.076030</td>\n",
       "      <td>0.217878</td>\n",
       "      <td>0.218577</td>\n",
       "      <td>1.000000</td>\n",
       "      <td>0.547613</td>\n",
       "      <td>0.565393</td>\n",
       "    </tr>\n",
       "    <tr>\n",
       "      <th>temperature</th>\n",
       "      <td>-0.051953</td>\n",
       "      <td>0.406177</td>\n",
       "      <td>0.383028</td>\n",
       "      <td>0.547613</td>\n",
       "      <td>1.000000</td>\n",
       "      <td>0.363149</td>\n",
       "    </tr>\n",
       "    <tr>\n",
       "      <th>duration</th>\n",
       "      <td>0.168827</td>\n",
       "      <td>-0.142240</td>\n",
       "      <td>-0.142240</td>\n",
       "      <td>0.565393</td>\n",
       "      <td>0.363149</td>\n",
       "      <td>1.000000</td>\n",
       "    </tr>\n",
       "  </tbody>\n",
       "</table>\n",
       "</div>"
      ],
      "text/plain": [
       "                  abv       srm       ebc        ph  temperature  duration\n",
       "abv          1.000000  0.003290  0.014371  0.076030    -0.051953  0.168827\n",
       "srm          0.003290  1.000000  0.998674  0.217878     0.406177 -0.142240\n",
       "ebc          0.014371  0.998674  1.000000  0.218577     0.383028 -0.142240\n",
       "ph           0.076030  0.217878  0.218577  1.000000     0.547613  0.565393\n",
       "temperature -0.051953  0.406177  0.383028  0.547613     1.000000  0.363149\n",
       "duration     0.168827 -0.142240 -0.142240  0.565393     0.363149  1.000000"
      ]
     },
     "execution_count": 6,
     "metadata": {},
     "output_type": "execute_result"
    }
   ],
   "source": [
    "punkapi.corr()"
   ]
  },
  {
   "cell_type": "markdown",
   "metadata": {},
   "source": [
    "### Plot linear regression"
   ]
  },
  {
   "cell_type": "code",
   "execution_count": null,
   "metadata": {},
   "outputs": [],
   "source": [
    "import seaborn as sns\n",
    "\n",
    "x =punkapi.abv\n",
    "y = punkapi.srm\n",
    "\n",
    "regression = sns.regplot( x, y)"
   ]
  },
  {
   "cell_type": "markdown",
   "metadata": {},
   "source": [
    "### Calculate STATISTICAL data"
   ]
  },
  {
   "cell_type": "code",
   "execution_count": null,
   "metadata": {},
   "outputs": [],
   "source": [
    "\n",
    "punkapi = punkapi.dropna() ##we remove ALL rows in which for each value, there is a NaN\n",
    "\n",
    "\n",
    "abv = punkapi['abv']\n",
    "srm = punkapi['srm']\n",
    "\n",
    "\n",
    "slope, intercept, r_value, p_value, std_err = stats.linregress(abv, srm)\n",
    "print(f'''slope: {round(slope,3)}\n",
    "intercept: {round(intercept,3)}\n",
    "R-square: {round(r_value,3)} \n",
    "P-factor: {round(p_value,3)} \n",
    "standard error: {round(std_err,3)} \n",
    "      ''')\n",
    "\n",
    "print (f'''\n",
    "y = mx +x0 \n",
    "y = {round(slope,3)}x + {round(intercept,3)}\n",
    "''')\n",
    "\n"
   ]
  },
  {
   "cell_type": "markdown",
   "metadata": {},
   "source": [
    "**R factor = -0.01 means there is no relationship with a linear relationship between abv and sem**\n",
    "\n",
    "**P factor = 0.963 (close to 1) indicates that there is no relationship when Y parameter (srm) changes, X paramter (abv) changes too**"
   ]
  },
  {
   "cell_type": "code",
   "execution_count": null,
   "metadata": {},
   "outputs": [],
   "source": []
  }
 ],
 "metadata": {
  "kernelspec": {
   "display_name": "Python 3",
   "language": "python",
   "name": "python3"
  },
  "language_info": {
   "codemirror_mode": {
    "name": "ipython",
    "version": 3
   },
   "file_extension": ".py",
   "mimetype": "text/x-python",
   "name": "python",
   "nbconvert_exporter": "python",
   "pygments_lexer": "ipython3",
   "version": "3.7.4"
  }
 },
 "nbformat": 4,
 "nbformat_minor": 2
}
