{
 "cells": [
  {
   "cell_type": "markdown",
   "metadata": {},
   "source": [
    "### 2. Which is the beer category sold in more breweries?"
   ]
  },
  {
   "cell_type": "markdown",
   "metadata": {},
   "source": [
    "First let's read the csv of beers and categories"
   ]
  },
  {
   "cell_type": "code",
   "execution_count": 2,
   "metadata": {},
   "outputs": [],
   "source": [
    "import pandas as pd\n",
    "\n",
    "beers = pd.read_csv('../NEW_DATA/beers_new.csv')\n",
    "\n",
    "categories = pd.read_csv('../NEW_DATA/categories_new.csv')\n",
    "\n",
    "breweries = pd.read_csv('../NEW_DATA/brewery_new.csv')\n",
    "\n",
    "beers = beers.astype({'cat_id': int, 'brewery_id': int})"
   ]
  },
  {
   "cell_type": "code",
   "execution_count": 3,
   "metadata": {},
   "outputs": [
    {
     "data": {
      "text/html": [
       "<div>\n",
       "<style scoped>\n",
       "    .dataframe tbody tr th:only-of-type {\n",
       "        vertical-align: middle;\n",
       "    }\n",
       "\n",
       "    .dataframe tbody tr th {\n",
       "        vertical-align: top;\n",
       "    }\n",
       "\n",
       "    .dataframe thead th {\n",
       "        text-align: right;\n",
       "    }\n",
       "</style>\n",
       "<table border=\"1\" class=\"dataframe\">\n",
       "  <thead>\n",
       "    <tr style=\"text-align: right;\">\n",
       "      <th></th>\n",
       "      <th>brewery_id</th>\n",
       "      <th>name</th>\n",
       "      <th>cat_id</th>\n",
       "      <th>style_id</th>\n",
       "      <th>abv</th>\n",
       "    </tr>\n",
       "  </thead>\n",
       "  <tbody>\n",
       "    <tr>\n",
       "      <th>0</th>\n",
       "      <td>812</td>\n",
       "      <td>Hocus Pocus</td>\n",
       "      <td>11</td>\n",
       "      <td>116.0</td>\n",
       "      <td>4.5</td>\n",
       "    </tr>\n",
       "    <tr>\n",
       "      <th>1</th>\n",
       "      <td>1385</td>\n",
       "      <td>Winter Warmer</td>\n",
       "      <td>1</td>\n",
       "      <td>13.0</td>\n",
       "      <td>5.2</td>\n",
       "    </tr>\n",
       "    <tr>\n",
       "      <th>2</th>\n",
       "      <td>1099</td>\n",
       "      <td>Oatmeal Stout</td>\n",
       "      <td>3</td>\n",
       "      <td>42.0</td>\n",
       "      <td>5.0</td>\n",
       "    </tr>\n",
       "    <tr>\n",
       "      <th>3</th>\n",
       "      <td>1099</td>\n",
       "      <td>Imperial Stout</td>\n",
       "      <td>3</td>\n",
       "      <td>42.0</td>\n",
       "      <td>7.0</td>\n",
       "    </tr>\n",
       "    <tr>\n",
       "      <th>4</th>\n",
       "      <td>1023</td>\n",
       "      <td>Wiesen Edel Weisse</td>\n",
       "      <td>4</td>\n",
       "      <td>50.0</td>\n",
       "      <td>6.2</td>\n",
       "    </tr>\n",
       "  </tbody>\n",
       "</table>\n",
       "</div>"
      ],
      "text/plain": [
       "   brewery_id                name  cat_id  style_id  abv\n",
       "0         812         Hocus Pocus      11     116.0  4.5\n",
       "1        1385       Winter Warmer       1      13.0  5.2\n",
       "2        1099       Oatmeal Stout       3      42.0  5.0\n",
       "3        1099      Imperial Stout       3      42.0  7.0\n",
       "4        1023  Wiesen Edel Weisse       4      50.0  6.2"
      ]
     },
     "execution_count": 3,
     "metadata": {},
     "output_type": "execute_result"
    }
   ],
   "source": [
    "beers.head()"
   ]
  },
  {
   "cell_type": "code",
   "execution_count": 12,
   "metadata": {},
   "outputs": [],
   "source": [
    "dataset1 = beers.merge(breweries, left_on='brewery_id', right_on ='id')\n",
    "dataset2 = dataset1.merge(categories, left_on='cat_id', right_on ='id')"
   ]
  },
  {
   "cell_type": "code",
   "execution_count": 13,
   "metadata": {},
   "outputs": [],
   "source": [
    "dataset2 = dataset2.drop(['id_x', 'id_y', 'address1', 'state', 'abv', 'city'], axis=1)"
   ]
  },
  {
   "cell_type": "code",
   "execution_count": 14,
   "metadata": {},
   "outputs": [
    {
     "data": {
      "text/html": [
       "<div>\n",
       "<style scoped>\n",
       "    .dataframe tbody tr th:only-of-type {\n",
       "        vertical-align: middle;\n",
       "    }\n",
       "\n",
       "    .dataframe tbody tr th {\n",
       "        vertical-align: top;\n",
       "    }\n",
       "\n",
       "    .dataframe thead th {\n",
       "        text-align: right;\n",
       "    }\n",
       "</style>\n",
       "<table border=\"1\" class=\"dataframe\">\n",
       "  <thead>\n",
       "    <tr style=\"text-align: right;\">\n",
       "      <th></th>\n",
       "      <th>brewery_id</th>\n",
       "      <th>name_x</th>\n",
       "      <th>cat_id</th>\n",
       "      <th>style_id</th>\n",
       "      <th>name_y</th>\n",
       "      <th>country</th>\n",
       "      <th>cat_name</th>\n",
       "    </tr>\n",
       "  </thead>\n",
       "  <tbody>\n",
       "    <tr>\n",
       "      <th>0</th>\n",
       "      <td>812</td>\n",
       "      <td>Hocus Pocus</td>\n",
       "      <td>11</td>\n",
       "      <td>116.0</td>\n",
       "      <td>Magic Hat</td>\n",
       "      <td>United States</td>\n",
       "      <td>Other Style</td>\n",
       "    </tr>\n",
       "    <tr>\n",
       "      <th>1</th>\n",
       "      <td>812</td>\n",
       "      <td>Feast of Fools</td>\n",
       "      <td>11</td>\n",
       "      <td>121.0</td>\n",
       "      <td>Magic Hat</td>\n",
       "      <td>United States</td>\n",
       "      <td>Other Style</td>\n",
       "    </tr>\n",
       "    <tr>\n",
       "      <th>2</th>\n",
       "      <td>812</td>\n",
       "      <td>Wacko</td>\n",
       "      <td>11</td>\n",
       "      <td>121.0</td>\n",
       "      <td>Magic Hat</td>\n",
       "      <td>United States</td>\n",
       "      <td>Other Style</td>\n",
       "    </tr>\n",
       "    <tr>\n",
       "      <th>3</th>\n",
       "      <td>1099</td>\n",
       "      <td>Winter Welcome 2008-2009</td>\n",
       "      <td>11</td>\n",
       "      <td>141.0</td>\n",
       "      <td>Samuel Smith Old Brewery (Tadcaster)</td>\n",
       "      <td>United Kingdom</td>\n",
       "      <td>Other Style</td>\n",
       "    </tr>\n",
       "    <tr>\n",
       "      <th>4</th>\n",
       "      <td>1023</td>\n",
       "      <td>Schneider Weisse</td>\n",
       "      <td>11</td>\n",
       "      <td>116.0</td>\n",
       "      <td>Private Weissbierbrauerei G. Schneider &amp; Sohn ...</td>\n",
       "      <td>Germany</td>\n",
       "      <td>Other Style</td>\n",
       "    </tr>\n",
       "  </tbody>\n",
       "</table>\n",
       "</div>"
      ],
      "text/plain": [
       "   brewery_id                    name_x  cat_id  style_id  \\\n",
       "0         812               Hocus Pocus      11     116.0   \n",
       "1         812            Feast of Fools      11     121.0   \n",
       "2         812                     Wacko      11     121.0   \n",
       "3        1099  Winter Welcome 2008-2009      11     141.0   \n",
       "4        1023          Schneider Weisse      11     116.0   \n",
       "\n",
       "                                              name_y         country  \\\n",
       "0                                          Magic Hat   United States   \n",
       "1                                          Magic Hat   United States   \n",
       "2                                          Magic Hat   United States   \n",
       "3               Samuel Smith Old Brewery (Tadcaster)  United Kingdom   \n",
       "4  Private Weissbierbrauerei G. Schneider & Sohn ...         Germany   \n",
       "\n",
       "      cat_name  \n",
       "0  Other Style  \n",
       "1  Other Style  \n",
       "2  Other Style  \n",
       "3  Other Style  \n",
       "4  Other Style  "
      ]
     },
     "execution_count": 14,
     "metadata": {},
     "output_type": "execute_result"
    }
   ],
   "source": [
    "dataset2.head()"
   ]
  },
  {
   "cell_type": "code",
   "execution_count": 15,
   "metadata": {},
   "outputs": [
    {
     "data": {
      "text/html": [
       "<div>\n",
       "<style scoped>\n",
       "    .dataframe tbody tr th:only-of-type {\n",
       "        vertical-align: middle;\n",
       "    }\n",
       "\n",
       "    .dataframe tbody tr th {\n",
       "        vertical-align: top;\n",
       "    }\n",
       "\n",
       "    .dataframe thead th {\n",
       "        text-align: right;\n",
       "    }\n",
       "</style>\n",
       "<table border=\"1\" class=\"dataframe\">\n",
       "  <thead>\n",
       "    <tr style=\"text-align: right;\">\n",
       "      <th></th>\n",
       "      <th>brewery_id</th>\n",
       "      <th>beer_name</th>\n",
       "      <th>cat_id</th>\n",
       "      <th>style_id</th>\n",
       "      <th>brewery_name</th>\n",
       "      <th>country</th>\n",
       "      <th>cat_name</th>\n",
       "    </tr>\n",
       "  </thead>\n",
       "  <tbody>\n",
       "    <tr>\n",
       "      <th>0</th>\n",
       "      <td>812</td>\n",
       "      <td>Hocus Pocus</td>\n",
       "      <td>11</td>\n",
       "      <td>116.0</td>\n",
       "      <td>Magic Hat</td>\n",
       "      <td>United States</td>\n",
       "      <td>Other Style</td>\n",
       "    </tr>\n",
       "    <tr>\n",
       "      <th>1</th>\n",
       "      <td>812</td>\n",
       "      <td>Feast of Fools</td>\n",
       "      <td>11</td>\n",
       "      <td>121.0</td>\n",
       "      <td>Magic Hat</td>\n",
       "      <td>United States</td>\n",
       "      <td>Other Style</td>\n",
       "    </tr>\n",
       "    <tr>\n",
       "      <th>2</th>\n",
       "      <td>812</td>\n",
       "      <td>Wacko</td>\n",
       "      <td>11</td>\n",
       "      <td>121.0</td>\n",
       "      <td>Magic Hat</td>\n",
       "      <td>United States</td>\n",
       "      <td>Other Style</td>\n",
       "    </tr>\n",
       "    <tr>\n",
       "      <th>3</th>\n",
       "      <td>1099</td>\n",
       "      <td>Winter Welcome 2008-2009</td>\n",
       "      <td>11</td>\n",
       "      <td>141.0</td>\n",
       "      <td>Samuel Smith Old Brewery (Tadcaster)</td>\n",
       "      <td>United Kingdom</td>\n",
       "      <td>Other Style</td>\n",
       "    </tr>\n",
       "    <tr>\n",
       "      <th>4</th>\n",
       "      <td>1023</td>\n",
       "      <td>Schneider Weisse</td>\n",
       "      <td>11</td>\n",
       "      <td>116.0</td>\n",
       "      <td>Private Weissbierbrauerei G. Schneider &amp; Sohn ...</td>\n",
       "      <td>Germany</td>\n",
       "      <td>Other Style</td>\n",
       "    </tr>\n",
       "  </tbody>\n",
       "</table>\n",
       "</div>"
      ],
      "text/plain": [
       "   brewery_id                 beer_name  cat_id  style_id  \\\n",
       "0         812               Hocus Pocus      11     116.0   \n",
       "1         812            Feast of Fools      11     121.0   \n",
       "2         812                     Wacko      11     121.0   \n",
       "3        1099  Winter Welcome 2008-2009      11     141.0   \n",
       "4        1023          Schneider Weisse      11     116.0   \n",
       "\n",
       "                                        brewery_name         country  \\\n",
       "0                                          Magic Hat   United States   \n",
       "1                                          Magic Hat   United States   \n",
       "2                                          Magic Hat   United States   \n",
       "3               Samuel Smith Old Brewery (Tadcaster)  United Kingdom   \n",
       "4  Private Weissbierbrauerei G. Schneider & Sohn ...         Germany   \n",
       "\n",
       "      cat_name  \n",
       "0  Other Style  \n",
       "1  Other Style  \n",
       "2  Other Style  \n",
       "3  Other Style  \n",
       "4  Other Style  "
      ]
     },
     "execution_count": 15,
     "metadata": {},
     "output_type": "execute_result"
    }
   ],
   "source": [
    "dataset2 = dataset2.rename(columns={\"name_x\": \"beer_name\", \"name_y\": \"brewery_name\"})\n",
    "dataset2.head()"
   ]
  },
  {
   "cell_type": "code",
   "execution_count": 16,
   "metadata": {},
   "outputs": [
    {
     "data": {
      "text/plain": [
       "cat_name\n",
       "North American Ale        1014\n",
       "Belgian and French Ale     259\n",
       "German Lager               231\n",
       "North American Lager       224\n",
       "British Ale                221\n",
       "Other Style                172\n",
       "Irish Ale                  125\n",
       "German Ale                  98\n",
       "Other Lager                  4\n",
       "Name: beer_name, dtype: int64"
      ]
     },
     "execution_count": 16,
     "metadata": {},
     "output_type": "execute_result"
    }
   ],
   "source": [
    "#Netherlands = dataset2.loc[dataset2['country'] == 'Netherlands']\n",
    "num_beer = dataset2.groupby(['cat_name']).count().sort_values(by='cat_name')\n",
    "num_beer = num_beer['beer_name'].sort_values(ascending=False)\n",
    "num_beer"
   ]
  },
  {
   "cell_type": "code",
   "execution_count": 17,
   "metadata": {},
   "outputs": [
    {
     "data": {
      "text/plain": [
       "cat_name\n",
       "North American Ale        277\n",
       "Other Style               109\n",
       "German Lager               62\n",
       "North American Lager       48\n",
       "British Ale                39\n",
       "Belgian and French Ale     35\n",
       "German Ale                 26\n",
       "Irish Ale                  19\n",
       "Other Lager                 1\n",
       "Name: brewery_id, dtype: int64"
      ]
     },
     "execution_count": 17,
     "metadata": {},
     "output_type": "execute_result"
    }
   ],
   "source": [
    "num_brewery = dataset2.drop_duplicates(subset=['brewery_id'])\n",
    "num_brewery = num_brewery.groupby(['cat_name']).count().sort_values(by='cat_name')\n",
    "num_brewery = num_brewery['brewery_id'].sort_values(ascending=False)\n",
    "num_brewery"
   ]
  },
  {
   "cell_type": "code",
   "execution_count": null,
   "metadata": {},
   "outputs": [],
   "source": []
  }
 ],
 "metadata": {
  "kernelspec": {
   "display_name": "Python 3",
   "language": "python",
   "name": "python3"
  },
  "language_info": {
   "codemirror_mode": {
    "name": "ipython",
    "version": 3
   },
   "file_extension": ".py",
   "mimetype": "text/x-python",
   "name": "python",
   "nbconvert_exporter": "python",
   "pygments_lexer": "ipython3",
   "version": "3.7.3"
  }
 },
 "nbformat": 4,
 "nbformat_minor": 2
}
