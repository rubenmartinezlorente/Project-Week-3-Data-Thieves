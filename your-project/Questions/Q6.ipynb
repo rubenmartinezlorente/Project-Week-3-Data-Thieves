{
 "cells": [
  {
   "cell_type": "markdown",
   "metadata": {},
   "source": [
    "# Q6:  6. Is there any relationship between the ABV and the fermentation temperature?"
   ]
  },
  {
   "cell_type": "markdown",
   "metadata": {},
   "source": [
    "### Reading the dataset from the API, already cleaned"
   ]
  },
  {
   "cell_type": "code",
   "execution_count": 1,
   "metadata": {},
   "outputs": [
    {
     "data": {
      "text/html": [
       "<div>\n",
       "<style scoped>\n",
       "    .dataframe tbody tr th:only-of-type {\n",
       "        vertical-align: middle;\n",
       "    }\n",
       "\n",
       "    .dataframe tbody tr th {\n",
       "        vertical-align: top;\n",
       "    }\n",
       "\n",
       "    .dataframe thead th {\n",
       "        text-align: right;\n",
       "    }\n",
       "</style>\n",
       "<table border=\"1\" class=\"dataframe\">\n",
       "  <thead>\n",
       "    <tr style=\"text-align: right;\">\n",
       "      <th></th>\n",
       "      <th>name</th>\n",
       "      <th>abv</th>\n",
       "      <th>srm</th>\n",
       "      <th>ebc</th>\n",
       "      <th>ph</th>\n",
       "      <th>temperature</th>\n",
       "      <th>duration</th>\n",
       "    </tr>\n",
       "  </thead>\n",
       "  <tbody>\n",
       "    <tr>\n",
       "      <th>0</th>\n",
       "      <td>Buzz</td>\n",
       "      <td>4.5</td>\n",
       "      <td>10.0</td>\n",
       "      <td>20.0</td>\n",
       "      <td>4.4</td>\n",
       "      <td>64</td>\n",
       "      <td>75.0</td>\n",
       "    </tr>\n",
       "    <tr>\n",
       "      <th>1</th>\n",
       "      <td>Trashy Blonde</td>\n",
       "      <td>4.1</td>\n",
       "      <td>15.0</td>\n",
       "      <td>15.0</td>\n",
       "      <td>4.4</td>\n",
       "      <td>69</td>\n",
       "      <td>NaN</td>\n",
       "    </tr>\n",
       "    <tr>\n",
       "      <th>2</th>\n",
       "      <td>Berliner Weisse With Yuzu - B-Sides</td>\n",
       "      <td>4.2</td>\n",
       "      <td>4.0</td>\n",
       "      <td>8.0</td>\n",
       "      <td>3.2</td>\n",
       "      <td>60</td>\n",
       "      <td>10.0</td>\n",
       "    </tr>\n",
       "    <tr>\n",
       "      <th>3</th>\n",
       "      <td>Pilsen Lager</td>\n",
       "      <td>6.3</td>\n",
       "      <td>15.0</td>\n",
       "      <td>30.0</td>\n",
       "      <td>4.4</td>\n",
       "      <td>65</td>\n",
       "      <td>NaN</td>\n",
       "    </tr>\n",
       "    <tr>\n",
       "      <th>4</th>\n",
       "      <td>Avery Brown Dredge</td>\n",
       "      <td>7.2</td>\n",
       "      <td>5.0</td>\n",
       "      <td>10.0</td>\n",
       "      <td>4.4</td>\n",
       "      <td>66</td>\n",
       "      <td>70.0</td>\n",
       "    </tr>\n",
       "  </tbody>\n",
       "</table>\n",
       "</div>"
      ],
      "text/plain": [
       "                                  name  abv   srm   ebc   ph  temperature  \\\n",
       "0                                 Buzz  4.5  10.0  20.0  4.4           64   \n",
       "1                        Trashy Blonde  4.1  15.0  15.0  4.4           69   \n",
       "2  Berliner Weisse With Yuzu - B-Sides  4.2   4.0   8.0  3.2           60   \n",
       "3                         Pilsen Lager  6.3  15.0  30.0  4.4           65   \n",
       "4                   Avery Brown Dredge  7.2   5.0  10.0  4.4           66   \n",
       "\n",
       "   duration  \n",
       "0      75.0  \n",
       "1       NaN  \n",
       "2      10.0  \n",
       "3       NaN  \n",
       "4      70.0  "
      ]
     },
     "execution_count": 1,
     "metadata": {},
     "output_type": "execute_result"
    }
   ],
   "source": [
    "import pandas as pd\n",
    "punkapi = pd.read_csv('../NEW_DATA/punkapi_clean.csv')\n",
    "punkapi.head()"
   ]
  },
  {
   "cell_type": "markdown",
   "metadata": {},
   "source": [
    "### Quick overview about relationship between ABV and  fermentation Temperature."
   ]
  },
  {
   "cell_type": "code",
   "execution_count": 8,
   "metadata": {},
   "outputs": [
    {
     "data": {
      "text/plain": [
       "-0.0519532835608946"
      ]
     },
     "execution_count": 8,
     "metadata": {},
     "output_type": "execute_result"
    }
   ],
   "source": [
    "punkapi.abv.corr(punkapi.temperature)"
   ]
  },
  {
   "cell_type": "markdown",
   "metadata": {},
   "source": [
    "### Quick overview abouth which parameter is related with"
   ]
  },
  {
   "cell_type": "code",
   "execution_count": 4,
   "metadata": {
    "scrolled": true
   },
   "outputs": [
    {
     "data": {
      "text/html": [
       "<div>\n",
       "<style scoped>\n",
       "    .dataframe tbody tr th:only-of-type {\n",
       "        vertical-align: middle;\n",
       "    }\n",
       "\n",
       "    .dataframe tbody tr th {\n",
       "        vertical-align: top;\n",
       "    }\n",
       "\n",
       "    .dataframe thead th {\n",
       "        text-align: right;\n",
       "    }\n",
       "</style>\n",
       "<table border=\"1\" class=\"dataframe\">\n",
       "  <thead>\n",
       "    <tr style=\"text-align: right;\">\n",
       "      <th></th>\n",
       "      <th>abv</th>\n",
       "      <th>ph</th>\n",
       "      <th>srm</th>\n",
       "      <th>ebc</th>\n",
       "      <th>duration</th>\n",
       "      <th>temperature</th>\n",
       "    </tr>\n",
       "  </thead>\n",
       "  <tbody>\n",
       "    <tr>\n",
       "      <th>abv</th>\n",
       "      <td>1.000000</td>\n",
       "      <td>0.076030</td>\n",
       "      <td>0.003290</td>\n",
       "      <td>0.014371</td>\n",
       "      <td>0.168827</td>\n",
       "      <td>-0.051953</td>\n",
       "    </tr>\n",
       "    <tr>\n",
       "      <th>ph</th>\n",
       "      <td>0.076030</td>\n",
       "      <td>1.000000</td>\n",
       "      <td>0.217878</td>\n",
       "      <td>0.218577</td>\n",
       "      <td>0.565393</td>\n",
       "      <td>0.547613</td>\n",
       "    </tr>\n",
       "    <tr>\n",
       "      <th>srm</th>\n",
       "      <td>0.003290</td>\n",
       "      <td>0.217878</td>\n",
       "      <td>1.000000</td>\n",
       "      <td>0.998674</td>\n",
       "      <td>-0.142240</td>\n",
       "      <td>0.406177</td>\n",
       "    </tr>\n",
       "    <tr>\n",
       "      <th>ebc</th>\n",
       "      <td>0.014371</td>\n",
       "      <td>0.218577</td>\n",
       "      <td>0.998674</td>\n",
       "      <td>1.000000</td>\n",
       "      <td>-0.142240</td>\n",
       "      <td>0.383028</td>\n",
       "    </tr>\n",
       "    <tr>\n",
       "      <th>duration</th>\n",
       "      <td>0.168827</td>\n",
       "      <td>0.565393</td>\n",
       "      <td>-0.142240</td>\n",
       "      <td>-0.142240</td>\n",
       "      <td>1.000000</td>\n",
       "      <td>0.363149</td>\n",
       "    </tr>\n",
       "    <tr>\n",
       "      <th>temperature</th>\n",
       "      <td>-0.051953</td>\n",
       "      <td>0.547613</td>\n",
       "      <td>0.406177</td>\n",
       "      <td>0.383028</td>\n",
       "      <td>0.363149</td>\n",
       "      <td>1.000000</td>\n",
       "    </tr>\n",
       "  </tbody>\n",
       "</table>\n",
       "</div>"
      ],
      "text/plain": [
       "                  abv        ph       srm       ebc  duration  temperature\n",
       "abv          1.000000  0.076030  0.003290  0.014371  0.168827    -0.051953\n",
       "ph           0.076030  1.000000  0.217878  0.218577  0.565393     0.547613\n",
       "srm          0.003290  0.217878  1.000000  0.998674 -0.142240     0.406177\n",
       "ebc          0.014371  0.218577  0.998674  1.000000 -0.142240     0.383028\n",
       "duration     0.168827  0.565393 -0.142240 -0.142240  1.000000     0.363149\n",
       "temperature -0.051953  0.547613  0.406177  0.383028  0.363149     1.000000"
      ]
     },
     "execution_count": 4,
     "metadata": {},
     "output_type": "execute_result"
    }
   ],
   "source": [
    "punkapi.corr()"
   ]
  },
  {
   "cell_type": "markdown",
   "metadata": {},
   "source": [
    "### There is no correlation (-0.05) between the alcohol by volumen (ABV) and fermentation temperature"
   ]
  },
  {
   "cell_type": "code",
   "execution_count": null,
   "metadata": {},
   "outputs": [],
   "source": []
  }
 ],
 "metadata": {
  "kernelspec": {
   "display_name": "Python 3",
   "language": "python",
   "name": "python3"
  },
  "language_info": {
   "codemirror_mode": {
    "name": "ipython",
    "version": 3
   },
   "file_extension": ".py",
   "mimetype": "text/x-python",
   "name": "python",
   "nbconvert_exporter": "python",
   "pygments_lexer": "ipython3",
   "version": "3.7.3"
  }
 },
 "nbformat": 4,
 "nbformat_minor": 2
}
